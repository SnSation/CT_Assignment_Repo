{
 "cells": [
  {
   "cell_type": "code",
   "execution_count": 1,
   "metadata": {},
   "outputs": [],
   "source": [
    "import requests, json\n",
    "import IPython.display\n",
    "from PIL import Image\n",
    "import matplotlib.pyplot as plt\n",
    "import matplotlib.image as mpimg"
   ]
  },
  {
   "cell_type": "code",
   "execution_count": null,
   "metadata": {},
   "outputs": [],
   "source": [
    "class Player:\n",
    "    def __init__(self):\n",
    "        self.name = input(\"What is your name?\\n\").title()\n",
    "        self.region = input(\"Where did you begin your journey?\\nKanto or Johto\\n\").lower()\n",
    "        self.pokedex = Dex(self.region)\n",
    "        \n",
    "class Dex:\n",
    "    def __init__(self, region):\n",
    "        if region == 'kanto':\n",
    "            self.region_no = 2\n",
    "        elif region == 'johto':\n",
    "            self.region_no = 3\n",
    "        elif region == 'hoenn':\n",
    "            self.region_no = 4\n",
    "        elif region == 'sinnoh':\n",
    "            self.region_no = 6\n",
    "        elif region == 'unova':\n",
    "            self.region_no = 9\n",
    "        else:\n",
    "            self.region_no = 1\n",
    "        self.region = region.title()\n",
    "        self.dex_api = requests.get('https://pokeapi.co/api/v2/pokedex/' + str(self.region_no)).json()\n",
    "        self.region_dex = Pokemon(self.dex_api, region).pokedex\n",
    "        \n",
    "    def search(self):\n",
    "        command = input(\"How would you like to search?\\n'Name', 'Number', 'Type'\\n\").lower()\n",
    "        if command == 'name':\n",
    "            name = input('What is the name of the pokemon?\\n')\n",
    "            for pokemon in self.region_dex:\n",
    "                if name == pokemon[0]:\n",
    "                    self.search_result(pokemon)\n",
    "        elif command == 'number':\n",
    "            num = input('What is the ID No. of the pokemon?\\n')\n",
    "            for pokemon in self.region_dex:\n",
    "                if int(num) == pokemon[1]['local_id']:\n",
    "                    self.search_result(pokemon)\n",
    "        elif command == 'type':\n",
    "            p_type = input('What type would you like to search?\\n')\n",
    "            for pokemon in self.region_dex:\n",
    "                if p_type in pokemon[1]['types']:\n",
    "                    self.search_result(pokemon)\n",
    "        else:\n",
    "            return \"Sorry, I don't understand that command.\"\n",
    "    \n",
    "    def search_result(self,pokemon):\n",
    "        sprite = plt.imread(pokemon[1]['image'])\n",
    "        plt.imshow(sprite)\n",
    "        plt.axis('off')\n",
    "        plt.show()\n",
    "        print(f\"{pokemon[1]['name']} Local No: {pokemon[1]['local_id']} National No: {pokemon[1]['national_id']}\")\n",
    "        print(f\"Type: {' - '.join(pokemon[1]['types']).title()}\")\n",
    "        print(f\"Height: {str(pokemon[1]['height'])} Weight: {str(pokemon[1]['weight'])}\") \n",
    "\n",
    "class Pokemon:\n",
    "    def __init__(self, api, region):\n",
    "        self.api = api\n",
    "        self.pokedex = []\n",
    "        \n",
    "        local_id = 1\n",
    "        for pokemon in self.api['pokemon_entries']:\n",
    "            pokemon_data = requests.get('https://pokeapi.co/api/v2/pokemon/' + pokemon['pokemon_species']['name']).json()\n",
    "            self.pokedex.append(\n",
    "                    [pokemon_data['species']['name'], {\n",
    "                        'name':(pokemon_data['species']['name']).title(),\n",
    "                        'local_id': local_id,\n",
    "                        'national_id':pokemon_data['id'],\n",
    "                        'types':[x['type']['name'] for x in pokemon_data['types']],\n",
    "                        'height':pokemon_data['height'],\n",
    "                        'weight':pokemon_data['weight'],\n",
    "                        'image':pokemon_data['sprites']['front_default']\n",
    "                        }\n",
    "                    ]\n",
    "            )\n",
    "            local_id += 1\n"
   ]
  },
  {
   "cell_type": "code",
   "execution_count": 28,
   "metadata": {},
   "outputs": [],
   "source": [
    "class Game():\n",
    "    @classmethod\n",
    "    def run(self):\n",
    "        player = Player()\n",
    "        running = True\n",
    "        while running:\n",
    "            main_command = input(\"What do you want to do?\\nSearch, Other Options Coming Soon!\\n\")\n",
    "            if main_command.lower() == 'search':\n",
    "                player.pokedex.search()\n",
    "            elif main_command.lower() == 'quit':\n",
    "                running = False\n",
    "                print(\"Team Rocket's Blasting Off Again!\")\n",
    "                break"
   ]
  },
  {
   "cell_type": "code",
   "execution_count": 29,
   "metadata": {},
   "outputs": [
    {
     "name": "stdout",
     "output_type": "stream",
     "text": [
      "What is your name?\n",
      "k\n",
      "Where did you begin your journey?\n",
      "Kanto or Johto\n",
      "johto\n"
     ]
    },
    {
     "ename": "KeyboardInterrupt",
     "evalue": "Interrupted by user",
     "output_type": "error",
     "traceback": [
      "\u001b[0;31m---------------------------------------------------------------------------\u001b[0m",
      "\u001b[0;31mKeyboardInterrupt\u001b[0m                         Traceback (most recent call last)",
      "\u001b[0;32m<ipython-input-29-258af5876473>\u001b[0m in \u001b[0;36m<module>\u001b[0;34m\u001b[0m\n\u001b[0;32m----> 1\u001b[0;31m \u001b[0mGame\u001b[0m\u001b[0;34m.\u001b[0m\u001b[0mrun\u001b[0m\u001b[0;34m(\u001b[0m\u001b[0;34m)\u001b[0m\u001b[0;34m\u001b[0m\u001b[0;34m\u001b[0m\u001b[0m\n\u001b[0m",
      "\u001b[0;32m<ipython-input-28-6484d595aca3>\u001b[0m in \u001b[0;36mrun\u001b[0;34m(self)\u001b[0m\n\u001b[1;32m      5\u001b[0m         \u001b[0mrunning\u001b[0m \u001b[0;34m=\u001b[0m \u001b[0;32mTrue\u001b[0m\u001b[0;34m\u001b[0m\u001b[0;34m\u001b[0m\u001b[0m\n\u001b[1;32m      6\u001b[0m         \u001b[0;32mwhile\u001b[0m \u001b[0mrunning\u001b[0m\u001b[0;34m:\u001b[0m\u001b[0;34m\u001b[0m\u001b[0;34m\u001b[0m\u001b[0m\n\u001b[0;32m----> 7\u001b[0;31m             \u001b[0mmain_command\u001b[0m \u001b[0;34m=\u001b[0m \u001b[0minput\u001b[0m\u001b[0;34m(\u001b[0m\u001b[0;34m\"What do you want to do?\\nSearch, Other Options Coming Soon!\\n\"\u001b[0m\u001b[0;34m)\u001b[0m\u001b[0;34m\u001b[0m\u001b[0;34m\u001b[0m\u001b[0m\n\u001b[0m\u001b[1;32m      8\u001b[0m             \u001b[0;32mif\u001b[0m \u001b[0mmain_command\u001b[0m\u001b[0;34m.\u001b[0m\u001b[0mlower\u001b[0m\u001b[0;34m(\u001b[0m\u001b[0;34m)\u001b[0m \u001b[0;34m==\u001b[0m \u001b[0;34m'search'\u001b[0m\u001b[0;34m:\u001b[0m\u001b[0;34m\u001b[0m\u001b[0;34m\u001b[0m\u001b[0m\n\u001b[1;32m      9\u001b[0m                 \u001b[0mplayer\u001b[0m\u001b[0;34m.\u001b[0m\u001b[0mpokedex\u001b[0m\u001b[0;34m.\u001b[0m\u001b[0msearch\u001b[0m\u001b[0;34m(\u001b[0m\u001b[0;34m)\u001b[0m\u001b[0;34m\u001b[0m\u001b[0;34m\u001b[0m\u001b[0m\n",
      "\u001b[0;32m~/programs/anaconda3/lib/python3.8/site-packages/ipykernel/kernelbase.py\u001b[0m in \u001b[0;36mraw_input\u001b[0;34m(self, prompt)\u001b[0m\n\u001b[1;32m    858\u001b[0m                 \u001b[0;34m\"raw_input was called, but this frontend does not support input requests.\"\u001b[0m\u001b[0;34m\u001b[0m\u001b[0;34m\u001b[0m\u001b[0m\n\u001b[1;32m    859\u001b[0m             )\n\u001b[0;32m--> 860\u001b[0;31m         return self._input_request(str(prompt),\n\u001b[0m\u001b[1;32m    861\u001b[0m             \u001b[0mself\u001b[0m\u001b[0;34m.\u001b[0m\u001b[0m_parent_ident\u001b[0m\u001b[0;34m,\u001b[0m\u001b[0;34m\u001b[0m\u001b[0;34m\u001b[0m\u001b[0m\n\u001b[1;32m    862\u001b[0m             \u001b[0mself\u001b[0m\u001b[0;34m.\u001b[0m\u001b[0m_parent_header\u001b[0m\u001b[0;34m,\u001b[0m\u001b[0;34m\u001b[0m\u001b[0;34m\u001b[0m\u001b[0m\n",
      "\u001b[0;32m~/programs/anaconda3/lib/python3.8/site-packages/ipykernel/kernelbase.py\u001b[0m in \u001b[0;36m_input_request\u001b[0;34m(self, prompt, ident, parent, password)\u001b[0m\n\u001b[1;32m    902\u001b[0m             \u001b[0;32mexcept\u001b[0m \u001b[0mKeyboardInterrupt\u001b[0m\u001b[0;34m:\u001b[0m\u001b[0;34m\u001b[0m\u001b[0;34m\u001b[0m\u001b[0m\n\u001b[1;32m    903\u001b[0m                 \u001b[0;31m# re-raise KeyboardInterrupt, to truncate traceback\u001b[0m\u001b[0;34m\u001b[0m\u001b[0;34m\u001b[0m\u001b[0;34m\u001b[0m\u001b[0m\n\u001b[0;32m--> 904\u001b[0;31m                 \u001b[0;32mraise\u001b[0m \u001b[0mKeyboardInterrupt\u001b[0m\u001b[0;34m(\u001b[0m\u001b[0;34m\"Interrupted by user\"\u001b[0m\u001b[0;34m)\u001b[0m \u001b[0;32mfrom\u001b[0m \u001b[0;32mNone\u001b[0m\u001b[0;34m\u001b[0m\u001b[0;34m\u001b[0m\u001b[0m\n\u001b[0m\u001b[1;32m    905\u001b[0m             \u001b[0;32mexcept\u001b[0m \u001b[0mException\u001b[0m \u001b[0;32mas\u001b[0m \u001b[0me\u001b[0m\u001b[0;34m:\u001b[0m\u001b[0;34m\u001b[0m\u001b[0;34m\u001b[0m\u001b[0m\n\u001b[1;32m    906\u001b[0m                 \u001b[0mself\u001b[0m\u001b[0;34m.\u001b[0m\u001b[0mlog\u001b[0m\u001b[0;34m.\u001b[0m\u001b[0mwarning\u001b[0m\u001b[0;34m(\u001b[0m\u001b[0;34m\"Invalid Message:\"\u001b[0m\u001b[0;34m,\u001b[0m \u001b[0mexc_info\u001b[0m\u001b[0;34m=\u001b[0m\u001b[0;32mTrue\u001b[0m\u001b[0;34m)\u001b[0m\u001b[0;34m\u001b[0m\u001b[0;34m\u001b[0m\u001b[0m\n",
      "\u001b[0;31mKeyboardInterrupt\u001b[0m: Interrupted by user"
     ]
    }
   ],
   "source": [
    "Game.run()"
   ]
  },
  {
   "cell_type": "code",
   "execution_count": null,
   "metadata": {},
   "outputs": [],
   "source": []
  }
 ],
 "metadata": {
  "kernelspec": {
   "display_name": "Python 3",
   "language": "python",
   "name": "python3"
  },
  "language_info": {
   "codemirror_mode": {
    "name": "ipython",
    "version": 3
   },
   "file_extension": ".py",
   "mimetype": "text/x-python",
   "name": "python",
   "nbconvert_exporter": "python",
   "pygments_lexer": "ipython3",
   "version": "3.8.3"
  }
 },
 "nbformat": 4,
 "nbformat_minor": 4
}
