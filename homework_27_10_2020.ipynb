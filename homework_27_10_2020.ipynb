{
 "cells": [
  {
   "cell_type": "markdown",
   "metadata": {},
   "source": [
    "# Exercises"
   ]
  },
  {
   "cell_type": "markdown",
   "metadata": {},
   "source": [
    "### 1) Build a Shopping Cart <br>\n",
    "<p><b>Should have the following capabilities:</b><br><br>\n",
    "1) Takes in input <br>\n",
    "2) Stores user input into a list <br>\n",
    "3) User can add or delete items <br>\n",
    "4) User can see current shopping list <br>\n",
    "5) Loops until user 'quits' <br>\n",
    "6) Upon quiting the program, print out all items in the user's list <br>\n",
    "</p>"
   ]
  },
  {
   "cell_type": "code",
   "execution_count": null,
   "metadata": {},
   "outputs": [],
   "source": [
    "def shop():\n",
    "    stop = False\n",
    "    cart = []\n",
    "    quit_commands = [\"quit\", \"q\", \"stop\", \"end\", \"exit\"]\n",
    "    add_commands = [\"add\", \"a\", \"+\", \"add item\", \"buy\", \"purchase\", \"shop\"]\n",
    "    rem_commands = [\"remove\", \"r\", \"rem\", \"-\", \"subtract\"]\n",
    "    cart_commands = [\"cart\", \"list\", \"items\", \"purchases\"]\n",
    "    yes_commands = [\"yes\", \"y\", \"sure\", \"more\"]\n",
    "    while not stop:\n",
    "        command = input('What would you like to do?\\nCommands are: \"Add\", \"Remove\", \"Cart\", and \"Quit\"\\n')\n",
    "    \n",
    "        if command.lower() in quit_commands:\n",
    "            print('Your Cart:\\n')\n",
    "            for item in cart:\n",
    "                print(item.title())\n",
    "            stop = True\n",
    "            break\n",
    "\n",
    "        elif command.lower() in add_commands:\n",
    "            adding = False\n",
    "            while not adding:\n",
    "                response = input('What would you like to add to your cart?\\n').lower()\n",
    "                cart.append(response)\n",
    "                more = input('Anything else? Y/N\\n')\n",
    "                if more in yes_commands:\n",
    "                    continue\n",
    "                else:\n",
    "                    adding = True\n",
    "                    break\n",
    "            continue\n",
    "            \n",
    "        elif command.lower() in rem_commands:\n",
    "            removing = False\n",
    "            if cart:\n",
    "                while not removing:\n",
    "                    print('What would you like to remove from your cart?\\n')\n",
    "                    for item in cart:\n",
    "                        print(item.title())\n",
    "                    response = input('\\n').lower()\n",
    "                    if response in cart:\n",
    "                        cart.remove(response)\n",
    "                        less = input('Anything else? Y/N\\n')\n",
    "                        if less in yes_commands:\n",
    "                            continue\n",
    "                        else:\n",
    "                            removing = True\n",
    "                            break\n",
    "                    elif response == \"all\" or response == \"everything\":\n",
    "                        cart.clear()\n",
    "                        break\n",
    "                    else:\n",
    "                        print(response.title() + ' is not in your cart.')\n",
    "                        continue\n",
    "            else:\n",
    "                print('Your cart is empty.')\n",
    "                continue\n",
    "            continue\n",
    "\n",
    "        elif command.lower() in cart_commands:\n",
    "            if cart:\n",
    "                print('Your Cart:\\n')\n",
    "                for item in cart:\n",
    "                    print(item.title())\n",
    "                continue\n",
    "            else:\n",
    "                print('Your cart is empty.')\n",
    "                continue\n",
    "        \n",
    "        else:\n",
    "            print(\"I'm sorry, I didn't understand that.\")\n",
    "            continue"
   ]
  },
  {
   "cell_type": "code",
   "execution_count": null,
   "metadata": {},
   "outputs": [],
   "source": [
    "shop()"
   ]
  },
  {
   "cell_type": "code",
   "execution_count": null,
   "metadata": {},
   "outputs": [],
   "source": []
  },
  {
   "cell_type": "markdown",
   "metadata": {},
   "source": [
    "### 2) Create a Module in Visual Studio Code and Import It <br>\n",
    "<p><b>Module should have the following capabilities:</b><br><br>\n",
    "1) Has a function to calculate the square footage of a room <br>\n",
    "2) Has a function to calculate the circumference of a circle <br><br>\n",
    "<b>Program in Jupyter Notebook should take in user input and use imported functions to calculate a circle's circumference or a houses square footage</b>\n",
    "</p>"
   ]
  },
  {
   "cell_type": "markdown",
   "metadata": {},
   "source": [
    "##### **Note: When using functions in Python, arguments are passed in by reference, NOT value."
   ]
  },
  {
   "cell_type": "code",
   "execution_count": null,
   "metadata": {},
   "outputs": [],
   "source": [
    "import module"
   ]
  },
  {
   "cell_type": "code",
   "execution_count": null,
   "metadata": {},
   "outputs": [],
   "source": [
    "module.circ(5)"
   ]
  },
  {
   "cell_type": "code",
   "execution_count": null,
   "metadata": {},
   "outputs": [],
   "source": [
    "module.sqft(5, 10)"
   ]
  },
  {
   "cell_type": "code",
   "execution_count": null,
   "metadata": {},
   "outputs": [],
   "source": []
  }
 ],
 "metadata": {
  "kernelspec": {
   "display_name": "Python 3",
   "language": "python",
   "name": "python3"
  },
  "language_info": {
   "codemirror_mode": {
    "name": "ipython",
    "version": 3
   },
   "file_extension": ".py",
   "mimetype": "text/x-python",
   "name": "python",
   "nbconvert_exporter": "python",
   "pygments_lexer": "ipython3",
   "version": "3.8.3"
  }
 },
 "nbformat": 4,
 "nbformat_minor": 4
}
