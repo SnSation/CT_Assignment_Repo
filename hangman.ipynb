{
 "cells": [
  {
   "cell_type": "markdown",
   "metadata": {},
   "source": [
    "**Create a Letter Guessing Game**\n",
    "\n",
    "Create a program that allows a user 7 chances to guess the correct word. If they do not guess the word after 7 tries, the player loses and the program will print the correct word. Otherwise, the play wins and the game.\n",
    "\n",
    "**How to build the program**\n",
    "* When you start the game, you will need to select a random word from a list of at least 10 words (You have full control over which words you want to use for you program). This will be your secret word. Your secret word will be represented in the program as a group of underscores. For as long as the word is, you should also have that many underscores. \n",
    "\n",
    "* Once the word is selected, your game will commence. Perform a Google search to figure out how to select a random word from a list using Python.<br>\n",
    "**Hint** There's package you can import into your application that does this for you.\n",
    "\n",
    "* The end user will have a total of 7 chances to guess the correct letter from the secret word. If the end user makes 7 incorrect guesses, the game will end.\n",
    "\n",
    "* As you guess the correct letters, the letters you have guess will then take place of the underscores that letter represents. <br>\n",
    "**For Example**: If your secret word is 'watermelon' and  so far you have guessed the letters 'a' and 'e', the word you're trying to guess will appear as follows: _ a _ e _ _ e _ _ _.<br>\n",
    "**Keep in mind** that if you guess a letter that appears more than once in your secret word, make sure that the letter is populated anywhere that letter would be."
   ]
  },
  {
   "cell_type": "code",
   "execution_count": 1,
   "metadata": {},
   "outputs": [],
   "source": [
    "# Functions:\n",
    "# Word list\n",
    "class WordList:\n",
    "    def __init__(self, words=[\"california\", \"everything\", \"weathering\", \"basketball\", \"characters\", \"literature\", \"perfection\", \"volleyball\", \"depression\", \"technology\"]):\n",
    "        self.words = words\n",
    "    \n",
    "    def bank(self):\n",
    "        return self.words\n",
    "        \n",
    "# Randomly Choose Word\n",
    "class ChosenWord:\n",
    "    def __init__(self, words):\n",
    "        self.words = words\n",
    "        self.choice = \"\"\n",
    "    \n",
    "    def choose(self):\n",
    "        import random\n",
    "        choice = self.words[random.randrange(len(self.words))]\n",
    "        self.choice = choice\n",
    "        return choice\n",
    "\n",
    "# Display Puzzle\n",
    "class DisplayWord:\n",
    "    def __init__(self, word):\n",
    "        self.word = word\n",
    "        self.word_as_list = []\n",
    "        self.puzzle = []\n",
    "        \n",
    "    # Display Word as Underscores\n",
    "    def start(self):\n",
    "        for letter in self.word:\n",
    "            self.word_as_list.append(letter)\n",
    "            self.puzzle.append(\"_\")\n",
    "    \n",
    "    # Display letters if guessed correctly\n",
    "    def attempt(self, letter):\n",
    "        for i in range(len(self.word_as_list)):\n",
    "            if letter == self.word_as_list[i]:\n",
    "                self.puzzle[i] = letter\n",
    "        \n",
    "    def constant(self):\n",
    "        print(\" \".join(self.puzzle))\n",
    "    \n",
    "    # Display solution\n",
    "    def solution(self):\n",
    "        return self.word_as_list\n",
    "                 \n",
    "# Count Guesses, ignore repeat guesses\n",
    "# class AttemptCount:\n",
    "#     def __init__(self, count=0):\n",
    "#         self.letter = []\n",
    "#         self.count = 0\n",
    "    \n",
    "#     def attempt(self, letter):\n",
    "#         if letter in self.letter:\n",
    "#             print(\"You've already guessed \" + letter + \".\")\n",
    "#         else:\n",
    "#             self.letter.append(letter)\n",
    "#             self.count = self.count + 1\n",
    "\n",
    "#         print(\"Attempts so far: \" + str(self.count))    \n",
    "    \n",
    "# Different action on 7 guesses, puzzle complete, or quit\n",
    "class Outcome():\n",
    "    def __init__(self, count = 0):\n",
    "        self.failure = False\n",
    "        self.success = False\n",
    "        self.running = False\n",
    "        self.letter = []\n",
    "        self.count = count\n",
    "    \n",
    "    def attempt(self, letter):\n",
    "        if letter in self.letter:\n",
    "            print(\"You've already guessed \" + letter + \".\")\n",
    "        \n",
    "        else:\n",
    "            self.letter.append(letter)\n",
    "            self.count = self.count + 1\n",
    "            print(\"Attempts so far: \" + str(self.count))\n",
    "            if self.count == 7:\n",
    "                print(\"Failure!\")\n",
    "                self.running = True\n",
    "            \n",
    "        \n",
    "    \n",
    "    def start(self):\n",
    "        print(\"Attempts so far: 0\")\n",
    "\n",
    "        \n",
    "# Put everything together\n",
    "class Game():\n",
    "    @classmethod\n",
    "    def start(self):\n",
    "        potential_words = WordList()\n",
    "        randomizer = ChosenWord(potential_words.bank())\n",
    "        this_word = randomizer.choose()\n",
    "        display = DisplayWord(this_word)\n",
    "        display.start()\n",
    "        progress = Outcome()\n",
    "        \n",
    "        while not progress.running:\n",
    "            display.constant()\n",
    "            print(\"Guess a letter:\\n\")\n",
    "            attempt = input(\"\\n\")\n",
    "            \n",
    "            progress.attempt(attempt)\n",
    "            display.attempt(attempt)\n",
    "        "
   ]
  },
  {
   "cell_type": "code",
   "execution_count": 2,
   "metadata": {},
   "outputs": [
    {
     "name": "stdout",
     "output_type": "stream",
     "text": [
      "_ _ _ _ _ _ _ _ _ _\n",
      "Guess a letter:\n",
      "\n"
     ]
    },
    {
     "ename": "KeyboardInterrupt",
     "evalue": "Interrupted by user",
     "output_type": "error",
     "traceback": [
      "\u001b[0;31m---------------------------------------------------------------------------\u001b[0m",
      "\u001b[0;31mKeyboardInterrupt\u001b[0m                         Traceback (most recent call last)",
      "\u001b[0;32m<ipython-input-2-a234c3fe93fa>\u001b[0m in \u001b[0;36m<module>\u001b[0;34m\u001b[0m\n\u001b[0;32m----> 1\u001b[0;31m \u001b[0mGame\u001b[0m\u001b[0;34m(\u001b[0m\u001b[0;34m)\u001b[0m\u001b[0;34m.\u001b[0m\u001b[0mstart\u001b[0m\u001b[0;34m(\u001b[0m\u001b[0;34m)\u001b[0m\u001b[0;34m\u001b[0m\u001b[0;34m\u001b[0m\u001b[0m\n\u001b[0m",
      "\u001b[0;32m<ipython-input-1-d9aa06279489>\u001b[0m in \u001b[0;36mstart\u001b[0;34m(self)\u001b[0m\n\u001b[1;32m    102\u001b[0m             \u001b[0mdisplay\u001b[0m\u001b[0;34m.\u001b[0m\u001b[0mconstant\u001b[0m\u001b[0;34m(\u001b[0m\u001b[0;34m)\u001b[0m\u001b[0;34m\u001b[0m\u001b[0;34m\u001b[0m\u001b[0m\n\u001b[1;32m    103\u001b[0m             \u001b[0mprint\u001b[0m\u001b[0;34m(\u001b[0m\u001b[0;34m\"Guess a letter:\\n\"\u001b[0m\u001b[0;34m)\u001b[0m\u001b[0;34m\u001b[0m\u001b[0;34m\u001b[0m\u001b[0m\n\u001b[0;32m--> 104\u001b[0;31m             \u001b[0mattempt\u001b[0m \u001b[0;34m=\u001b[0m \u001b[0minput\u001b[0m\u001b[0;34m(\u001b[0m\u001b[0;34m\"\\n\"\u001b[0m\u001b[0;34m)\u001b[0m\u001b[0;34m\u001b[0m\u001b[0;34m\u001b[0m\u001b[0m\n\u001b[0m\u001b[1;32m    105\u001b[0m \u001b[0;34m\u001b[0m\u001b[0m\n\u001b[1;32m    106\u001b[0m             \u001b[0mprogress\u001b[0m\u001b[0;34m.\u001b[0m\u001b[0mattempt\u001b[0m\u001b[0;34m(\u001b[0m\u001b[0mattempt\u001b[0m\u001b[0;34m)\u001b[0m\u001b[0;34m\u001b[0m\u001b[0;34m\u001b[0m\u001b[0m\n",
      "\u001b[0;32m~/programs/anaconda3/lib/python3.8/site-packages/ipykernel/kernelbase.py\u001b[0m in \u001b[0;36mraw_input\u001b[0;34m(self, prompt)\u001b[0m\n\u001b[1;32m    858\u001b[0m                 \u001b[0;34m\"raw_input was called, but this frontend does not support input requests.\"\u001b[0m\u001b[0;34m\u001b[0m\u001b[0;34m\u001b[0m\u001b[0m\n\u001b[1;32m    859\u001b[0m             )\n\u001b[0;32m--> 860\u001b[0;31m         return self._input_request(str(prompt),\n\u001b[0m\u001b[1;32m    861\u001b[0m             \u001b[0mself\u001b[0m\u001b[0;34m.\u001b[0m\u001b[0m_parent_ident\u001b[0m\u001b[0;34m,\u001b[0m\u001b[0;34m\u001b[0m\u001b[0;34m\u001b[0m\u001b[0m\n\u001b[1;32m    862\u001b[0m             \u001b[0mself\u001b[0m\u001b[0;34m.\u001b[0m\u001b[0m_parent_header\u001b[0m\u001b[0;34m,\u001b[0m\u001b[0;34m\u001b[0m\u001b[0;34m\u001b[0m\u001b[0m\n",
      "\u001b[0;32m~/programs/anaconda3/lib/python3.8/site-packages/ipykernel/kernelbase.py\u001b[0m in \u001b[0;36m_input_request\u001b[0;34m(self, prompt, ident, parent, password)\u001b[0m\n\u001b[1;32m    902\u001b[0m             \u001b[0;32mexcept\u001b[0m \u001b[0mKeyboardInterrupt\u001b[0m\u001b[0;34m:\u001b[0m\u001b[0;34m\u001b[0m\u001b[0;34m\u001b[0m\u001b[0m\n\u001b[1;32m    903\u001b[0m                 \u001b[0;31m# re-raise KeyboardInterrupt, to truncate traceback\u001b[0m\u001b[0;34m\u001b[0m\u001b[0;34m\u001b[0m\u001b[0;34m\u001b[0m\u001b[0m\n\u001b[0;32m--> 904\u001b[0;31m                 \u001b[0;32mraise\u001b[0m \u001b[0mKeyboardInterrupt\u001b[0m\u001b[0;34m(\u001b[0m\u001b[0;34m\"Interrupted by user\"\u001b[0m\u001b[0;34m)\u001b[0m \u001b[0;32mfrom\u001b[0m \u001b[0;32mNone\u001b[0m\u001b[0;34m\u001b[0m\u001b[0;34m\u001b[0m\u001b[0m\n\u001b[0m\u001b[1;32m    905\u001b[0m             \u001b[0;32mexcept\u001b[0m \u001b[0mException\u001b[0m \u001b[0;32mas\u001b[0m \u001b[0me\u001b[0m\u001b[0;34m:\u001b[0m\u001b[0;34m\u001b[0m\u001b[0;34m\u001b[0m\u001b[0m\n\u001b[1;32m    906\u001b[0m                 \u001b[0mself\u001b[0m\u001b[0;34m.\u001b[0m\u001b[0mlog\u001b[0m\u001b[0;34m.\u001b[0m\u001b[0mwarning\u001b[0m\u001b[0;34m(\u001b[0m\u001b[0;34m\"Invalid Message:\"\u001b[0m\u001b[0;34m,\u001b[0m \u001b[0mexc_info\u001b[0m\u001b[0;34m=\u001b[0m\u001b[0;32mTrue\u001b[0m\u001b[0;34m)\u001b[0m\u001b[0;34m\u001b[0m\u001b[0;34m\u001b[0m\u001b[0m\n",
      "\u001b[0;31mKeyboardInterrupt\u001b[0m: Interrupted by user"
     ]
    }
   ],
   "source": [
    "Game().start()"
   ]
  },
  {
   "cell_type": "code",
   "execution_count": null,
   "metadata": {},
   "outputs": [],
   "source": []
  },
  {
   "cell_type": "code",
   "execution_count": 9,
   "metadata": {},
   "outputs": [
    {
     "name": "stdout",
     "output_type": "stream",
     "text": [
      "['california', 'everything', 'weathering', 'basketball', 'characters', 'literature', 'perfection', 'volleyball', 'depression', 'technology']\n"
     ]
    }
   ],
   "source": [
    "word_list = WordList()\n",
    "print(word_list.bank())"
   ]
  },
  {
   "cell_type": "code",
   "execution_count": 10,
   "metadata": {},
   "outputs": [
    {
     "name": "stdout",
     "output_type": "stream",
     "text": [
      "basketball\n",
      "basketball\n"
     ]
    }
   ],
   "source": [
    "puzzle_word = ChosenWord(word_list.bank())\n",
    "print(puzzle_word.choose())\n",
    "print(puzzle_word.choice)"
   ]
  },
  {
   "cell_type": "code",
   "execution_count": 11,
   "metadata": {},
   "outputs": [
    {
     "name": "stdout",
     "output_type": "stream",
     "text": [
      "basketball\n"
     ]
    }
   ],
   "source": [
    "display = DisplayWord(puzzle_word.choice)\n",
    "display.start()\n",
    "print(display.word)"
   ]
  },
  {
   "cell_type": "code",
   "execution_count": 12,
   "metadata": {},
   "outputs": [
    {
     "ename": "AttributeError",
     "evalue": "'DisplayWord' object has no attribute 'guess'",
     "output_type": "error",
     "traceback": [
      "\u001b[0;31m---------------------------------------------------------------------------\u001b[0m",
      "\u001b[0;31mAttributeError\u001b[0m                            Traceback (most recent call last)",
      "\u001b[0;32m<ipython-input-12-db77acb25afc>\u001b[0m in \u001b[0;36m<module>\u001b[0;34m\u001b[0m\n\u001b[0;32m----> 1\u001b[0;31m \u001b[0mdisplay\u001b[0m\u001b[0;34m.\u001b[0m\u001b[0mguess\u001b[0m\u001b[0;34m(\u001b[0m\u001b[0;34m\"e\"\u001b[0m\u001b[0;34m)\u001b[0m\u001b[0;34m\u001b[0m\u001b[0;34m\u001b[0m\u001b[0m\n\u001b[0m",
      "\u001b[0;31mAttributeError\u001b[0m: 'DisplayWord' object has no attribute 'guess'"
     ]
    }
   ],
   "source": [
    "display.guess(\"e\")"
   ]
  },
  {
   "cell_type": "code",
   "execution_count": 13,
   "metadata": {},
   "outputs": [
    {
     "name": "stdout",
     "output_type": "stream",
     "text": [
      "0\n",
      "[]\n",
      "Attempts so far: 1\n",
      "1\n",
      "['o']\n",
      "Attempts so far: 2\n",
      "2\n",
      "['o', 'g']\n",
      "You've already guessed o.\n",
      "2\n",
      "['o', 'g']\n"
     ]
    }
   ],
   "source": [
    "guess_letter = Outcome()\n",
    "print(guess_letter.count)\n",
    "print(guess_letter.letter)\n",
    "guess_letter.attempt(\"o\")\n",
    "print(guess_letter.count)\n",
    "print(guess_letter.letter)\n",
    "guess_letter.attempt(\"g\")\n",
    "print(guess_letter.count)\n",
    "print(guess_letter.letter)\n",
    "guess_letter.attempt(\"o\")\n",
    "print(guess_letter.count)\n",
    "print(guess_letter.letter)"
   ]
  },
  {
   "cell_type": "code",
   "execution_count": null,
   "metadata": {},
   "outputs": [],
   "source": [
    "class Winorlose:\n",
    "    def __init__(self):\n",
    "        self.gameOver=False\n",
    "    def checkGame(self):\n",
    "        #the won\n",
    "        self.gameOver=True\n",
    "class Game:\n",
    "    @staticmethod\n",
    "    def playgame():    \n",
    "        check = Winorlose()\n",
    "        while(not check.gameOver):\n",
    "            print(\"playing game\")\n",
    "            check.checkGame()\n",
    "        print(\"game Over\")\n",
    "Game.playgame()"
   ]
  },
  {
   "cell_type": "code",
   "execution_count": 21,
   "metadata": {},
   "outputs": [
    {
     "name": "stdout",
     "output_type": "stream",
     "text": [
      "['a', 'p', 'p', 'l', 'e']\n"
     ]
    }
   ],
   "source": []
  },
  {
   "cell_type": "code",
   "execution_count": null,
   "metadata": {},
   "outputs": [],
   "source": []
  }
 ],
 "metadata": {
  "kernelspec": {
   "display_name": "Python 3",
   "language": "python",
   "name": "python3"
  },
  "language_info": {
   "codemirror_mode": {
    "name": "ipython",
    "version": 3
   },
   "file_extension": ".py",
   "mimetype": "text/x-python",
   "name": "python",
   "nbconvert_exporter": "python",
   "pygments_lexer": "ipython3",
   "version": "3.8.3"
  }
 },
 "nbformat": 4,
 "nbformat_minor": 2
}
